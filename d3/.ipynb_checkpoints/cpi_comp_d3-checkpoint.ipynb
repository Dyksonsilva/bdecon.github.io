{
 "cells": [
  {
   "cell_type": "markdown",
   "metadata": {
    "collapsed": true
   },
   "source": [
    "### CPI component data for d3 bar chart"
   ]
  },
  {
   "cell_type": "code",
   "execution_count": 1,
   "metadata": {
    "collapsed": true
   },
   "outputs": [],
   "source": [
    "# Import libraries\n",
    "import pandas as pd\n",
    "import pandas_datareader.data as web\n",
    "from datetime import datetime as dt\n",
    "import os\n",
    "\n",
    "os.chdir('C:/Working/bdecon.github.io')"
   ]
  },
  {
   "cell_type": "code",
   "execution_count": 2,
   "metadata": {},
   "outputs": [
    {
     "name": "stderr",
     "output_type": "stream",
     "text": [
      "C:\\Users\\BDew\\Anaconda2\\lib\\site-packages\\pandas\\core\\indexing.py:179: SettingWithCopyWarning: \n",
      "A value is trying to be set on a copy of a slice from a DataFrame\n",
      "\n",
      "See the caveats in the documentation: http://pandas.pydata.org/pandas-docs/stable/indexing.html#indexing-view-versus-copy\n",
      "  self._setitem_with_indexer(indexer, value)\n"
     ]
    }
   ],
   "source": [
    "# Updated inputs to pandas datareader:\n",
    "start = dt(2015,1,1)\n",
    "series = {'CPIOGSSL': 'Other goods & serv',\n",
    "          'CPIEDUSL': 'Education',\n",
    "          'CPIRECSL': 'Recreation', \n",
    "          'CPIFABSL': 'Food & Beverage', \n",
    "          'CPITRNSL': 'Transportation',\n",
    "          'CPIHOSSL': 'Housing', \n",
    "          'CPIENGSL': 'Energy', \n",
    "          'CPIMEDSL': 'Healthcare', \n",
    "          'CPIAPPSL': 'Apparel'}\n",
    "\n",
    "# Retrieve data as pandas dataframe named df\n",
    "df = web.DataReader(series.keys(), 'fred', start)\n",
    "df.columns = series.values()\n",
    "\n",
    "# Obtain the annual percent change (inflation rate)\n",
    "df = df.pct_change(12) * 100\n",
    "\n",
    "# Write legend months to txt file\n",
    "month1 = df.index[-1].strftime('%B %Y')\n",
    "month2 = df.index[-2].strftime('%B %Y')\n",
    "\n",
    "# Keep only latest two months, transpose, and round\n",
    "df = df.tail(2).transpose().round(1)\n",
    "df.columns = ['value2', 'value']\n",
    "df.index.name = 'name'\n",
    "df = df.sort_values(by='value', axis=0, ascending=False)\n",
    "\n",
    "# Generate column with month values for legend text\n",
    "df.loc[:,'month'] = ''\n",
    "df['month'].iloc[0] = month1\n",
    "df['month'].iloc[1] = month2\n",
    "\n",
    "# Send to json file\n",
    "df.reset_index().to_json('d3_cpi_data.json', orient='records')"
   ]
  }
 ],
 "metadata": {
  "kernelspec": {
   "display_name": "Python 3",
   "language": "python",
   "name": "python3"
  },
  "language_info": {
   "codemirror_mode": {
    "name": "ipython",
    "version": 3
   },
   "file_extension": ".py",
   "mimetype": "text/x-python",
   "name": "python",
   "nbconvert_exporter": "python",
   "pygments_lexer": "ipython3",
   "version": "3.6.1"
  }
 },
 "nbformat": 4,
 "nbformat_minor": 2
}
